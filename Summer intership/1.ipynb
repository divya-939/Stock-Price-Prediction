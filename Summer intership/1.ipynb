{
 "cells": [
  {
   "cell_type": "code",
   "execution_count": 1,
   "metadata": {},
   "outputs": [],
   "source": [
    "import yfinance as yf\n"
   ]
  },
  {
   "cell_type": "code",
   "execution_count": 2,
   "metadata": {},
   "outputs": [
    {
     "name": "stdout",
     "output_type": "stream",
     "text": [
      "[*********************100%***********************]  1 of 1 completed\n",
      "                 Open       High        Low      Close  Adj Close    Volume\n",
      "Date                                                                       \n",
      "2012-01-03  26.549999  26.959999  26.389999  26.770000  21.466703  64731500\n",
      "2012-01-04  26.820000  27.469999  26.780001  27.400000  21.971897  80516100\n",
      "2012-01-05  27.379999  27.730000  27.290001  27.680000  22.196421  56081400\n",
      "2012-01-06  27.530001  28.190001  27.530001  28.110001  22.541243  99455500\n",
      "2012-01-09  28.049999  28.100000  27.719999  27.740000  22.244535  59706800\n",
      "...               ...        ...        ...        ...        ...       ...\n",
      "2016-12-23  63.450001  63.540001  62.799999  63.240002  58.253323  12403800\n",
      "2016-12-27  63.209999  64.070000  63.209999  63.279999  58.290169  11763200\n",
      "2016-12-28  63.400002  63.400002  62.830002  62.990002  58.023045  14653300\n",
      "2016-12-29  62.860001  63.200001  62.730000  62.900002  57.940140  10250600\n",
      "2016-12-30  62.959999  62.990002  62.029999  62.139999  57.240070  25579900\n",
      "\n",
      "[1258 rows x 6 columns]\n"
     ]
    }
   ],
   "source": [
    "data = yf.download('MSFT', start = '2012-01-01', end='2017-01-01')\n",
    "print(data)"
   ]
  }
 ],
 "metadata": {
  "kernelspec": {
   "display_name": "Python 3 (ipykernel)",
   "language": "python",
   "name": "python3"
  },
  "language_info": {
   "codemirror_mode": {
    "name": "ipython",
    "version": 3
   },
   "file_extension": ".py",
   "mimetype": "text/x-python",
   "name": "python",
   "nbconvert_exporter": "python",
   "pygments_lexer": "ipython3",
   "version": "3.10.9 (tags/v3.10.9:1dd9be6, Dec  6 2022, 20:01:21) [MSC v.1934 64 bit (AMD64)]"
  },
  "vscode": {
   "interpreter": {
    "hash": "6387543af36f0b057e67ae170adb3b12536fed67b9150400331e33febbd72413"
   }
  }
 },
 "nbformat": 4,
 "nbformat_minor": 2
}
